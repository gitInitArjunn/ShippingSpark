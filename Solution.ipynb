{
 "cells": [
  {
   "cell_type": "markdown",
   "id": "7e4b61b2",
   "metadata": {},
   "source": [
    "This notebook holds the solutions for the given objectives:  \n",
    "⚡Which region has the highest profit, and which country within that region has the highest profit?  \n",
    "⚡What is the highest number of orders placed within a 72-hour period?  \n",
    "⚡Which month has the highest average number of units sold?  \n",
    "⚡On analyzing the financial performance of placed orders. Identify the lowest and highest margin percentages from this analysis?  \n",
    "⚡On identifying key sales trends d etermine the top 3 highest-value orders for a specific item type from the dataset?  \n",
    "⚡Which type of item is most frequently sold on weekends in the Sub-Saharan Africa region?  \n",
    "⚡Compute year-over-year growth for total revenue.  "
   ]
  },
  {
   "cell_type": "markdown",
   "id": "2046ce30",
   "metadata": {},
   "source": [
    "Here is the data dictionary for the same:  \n",
    "__Region:__ The broad geographical region of the sale (e.g., “Europe”, “Sub-Saharan Africa”).  \n",
    "__Country:__ The specific country within the region where the sale occurred.  \n",
    "__Item Type__: The category of the product sold (e.g., “Baby Food”, “Office Supplies”).  \n",
    "__Sales Channel__: The method of sale, either “Online” or “Offline”.  \n",
    "__Order Priority__: The priority level assigned to the order (e.g., “H”, “C”, “L”).  \n",
    "__Order Date__: The date the order was placed.  \n",
    "__Order ID__: A unique identifier for the order.  \n",
    "__Ship Date__: The date the order was shipped.  \n",
    "__Units Sold__: The quantity of the product sold.  \n",
    "__Unit Price__: The selling price per unit of the product.  \n",
    "__Unit Cost__: The cost price per unit of the product.  \n",
    "__Total Revenue__: The total revenue generated from the sale (Units Sold * Unit Price).  \n",
    "__Total Cost__: The total cost incurred for the sale (Units Sold * Unit Cost).  \n",
    "__Total Profit__: The total profit made from the sale (Total Revenue — Total Cost).  "
   ]
  },
  {
   "cell_type": "code",
   "execution_count": null,
   "id": "fa44f083",
   "metadata": {},
   "outputs": [
    {
     "ename": "TypeError",
     "evalue": "'Builder' object is not callable",
     "output_type": "error",
     "traceback": [
      "\u001b[1;31m---------------------------------------------------------------------------\u001b[0m",
      "\u001b[1;31mTypeError\u001b[0m                                 Traceback (most recent call last)",
      "Cell \u001b[1;32mIn[1], line 3\u001b[0m\n\u001b[0;32m      1\u001b[0m \u001b[38;5;28;01mfrom\u001b[39;00m\u001b[38;5;250m \u001b[39m\u001b[38;5;21;01mpyspark\u001b[39;00m\u001b[38;5;21;01m.\u001b[39;00m\u001b[38;5;21;01msql\u001b[39;00m\u001b[38;5;250m \u001b[39m\u001b[38;5;28;01mimport\u001b[39;00m SparkSession\n\u001b[1;32m----> 3\u001b[0m spark \u001b[38;5;241m=\u001b[39m \u001b[43mSparkSession\u001b[49m\u001b[38;5;241;43m.\u001b[39;49m\u001b[43mbuilder\u001b[49m\u001b[43m(\u001b[49m\u001b[43m)\u001b[49m \\\n\u001b[0;32m      4\u001b[0m         \u001b[38;5;241m.\u001b[39mappName(\u001b[38;5;124m\"\u001b[39m\u001b[38;5;124mShippingDataAnalysis\u001b[39m\u001b[38;5;124m\"\u001b[39m) \\\n\u001b[0;32m      5\u001b[0m         \u001b[38;5;241m.\u001b[39mgetOrCreate()\n\u001b[0;32m      7\u001b[0m df \u001b[38;5;241m=\u001b[39m spark\u001b[38;5;241m.\u001b[39mread\u001b[38;5;241m.\u001b[39mcsv(\u001b[38;5;124m\"\u001b[39m\u001b[38;5;124mAmazonSalesData.csv\u001b[39m\u001b[38;5;124m\"\u001b[39m)\n",
      "\u001b[1;31mTypeError\u001b[0m: 'Builder' object is not callable"
     ]
    }
   ],
   "source": [
    "from pyspark.sql import SparkSession\n",
    "\n",
    "spark = SparkSession.builder \\\n",
    "        .appName(\"ShippingDataAnalysis\") \\\n",
    "        .getOrCreate()\n",
    "        \n",
    "df = spark.read.csv(\"AmazonSalesData.csv\")"
   ]
  },
  {
   "cell_type": "markdown",
   "id": "d89768a9",
   "metadata": {},
   "source": [
    "---"
   ]
  },
  {
   "cell_type": "markdown",
   "id": "77141e8f",
   "metadata": {},
   "source": [
    "Which region has the highest profit, and which country within that region has the highest profit?"
   ]
  }
 ],
 "metadata": {
  "kernelspec": {
   "display_name": "pyspark310",
   "language": "python",
   "name": "python3"
  },
  "language_info": {
   "codemirror_mode": {
    "name": "ipython",
    "version": 3
   },
   "file_extension": ".py",
   "mimetype": "text/x-python",
   "name": "python",
   "nbconvert_exporter": "python",
   "pygments_lexer": "ipython3",
   "version": "3.10.18"
  }
 },
 "nbformat": 4,
 "nbformat_minor": 5
}
