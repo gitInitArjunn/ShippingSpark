{
 "cells": [
  {
   "cell_type": "markdown",
   "id": "7e4b61b2",
   "metadata": {},
   "source": [
    "This notebook holds the solutions for the given objectives:  \n",
    "⚡Which region has the highest profit, and which country within that region has the highest profit?  \n",
    "⚡What is the highest number of orders placed within a 72-hour period?  \n",
    "⚡Which month has the highest average number of units sold?  \n",
    "⚡On analyzing the financial performance of placed orders. Identify the lowest and highest margin percentages from this analysis?  \n",
    "⚡On identifying key sales trends d etermine the top 3 highest-value orders for a specific item type from the dataset?  \n",
    "⚡Which type of item is most frequently sold on weekends in the Sub-Saharan Africa region?  \n",
    "⚡Compute year-over-year growth for total revenue.  "
   ]
  },
  {
   "cell_type": "markdown",
   "id": "2046ce30",
   "metadata": {},
   "source": [
    "Here is the data dictionary for the same:  \n",
    "__Region:__ The broad geographical region of the sale (e.g., “Europe”, “Sub-Saharan Africa”).  \n",
    "__Country:__ The specific country within the region where the sale occurred.  \n",
    "__Item Type__: The category of the product sold (e.g., “Baby Food”, “Office Supplies”).  \n",
    "__Sales Channel__: The method of sale, either “Online” or “Offline”.  \n",
    "__Order Priority__: The priority level assigned to the order (e.g., “H”, “C”, “L”).  \n",
    "__Order Date__: The date the order was placed.  \n",
    "__Order ID__: A unique identifier for the order.  \n",
    "__Ship Date__: The date the order was shipped.  \n",
    "__Units Sold__: The quantity of the product sold.  \n",
    "__Unit Price__: The selling price per unit of the product.  \n",
    "__Unit Cost__: The cost price per unit of the product.  \n",
    "__Total Revenue__: The total revenue generated from the sale (Units Sold * Unit Price).  \n",
    "__Total Cost__: The total cost incurred for the sale (Units Sold * Unit Cost).  \n",
    "__Total Profit__: The total profit made from the sale (Total Revenue — Total Cost).  "
   ]
  },
  {
   "cell_type": "code",
   "execution_count": 51,
   "id": "fa44f083",
   "metadata": {},
   "outputs": [],
   "source": [
    "from pyspark.sql import SparkSession\n",
    "\n",
    "spark = SparkSession.builder \\\n",
    "        .appName(\"ShippingDataAnalysis\") \\\n",
    "        .getOrCreate()\n",
    "        \n",
    "df = spark.read.csv(\"AmazonSalesData.csv\", header = True, inferSchema = True)"
   ]
  },
  {
   "cell_type": "code",
   "execution_count": 52,
   "id": "40b61cc1",
   "metadata": {},
   "outputs": [
    {
     "name": "stdout",
     "output_type": "stream",
     "text": [
      "+--------------------+--------------------+---------------+-------------+--------------+----------+---------+---------+----------+----------+---------+-------------+----------+------------+\n",
      "|              Region|             Country|      Item Type|Sales Channel|Order Priority|Order Date| Order ID|Ship Date|Units Sold|Unit Price|Unit Cost|Total Revenue|Total Cost|Total Profit|\n",
      "+--------------------+--------------------+---------------+-------------+--------------+----------+---------+---------+----------+----------+---------+-------------+----------+------------+\n",
      "|Australia and Oce...|              Tuvalu|      Baby Food|      Offline|             H| 5/28/2010|669165933|6/27/2010|      9925|    255.28|   159.42|    2533654.0| 1582243.5|    951410.5|\n",
      "|Central America a...|             Grenada|         Cereal|       Online|             C| 8/22/2012|963881480|9/15/2012|      2804|     205.7|   117.11|     576782.8| 328376.44|   248406.36|\n",
      "|              Europe|              Russia|Office Supplies|      Offline|             L|  5/2/2014|341417157| 5/8/2014|      1779|    651.21|   524.96|   1158502.59| 933903.84|   224598.75|\n",
      "|  Sub-Saharan Africa|Sao Tome and Prin...|         Fruits|       Online|             C| 6/20/2014|514321792| 7/5/2014|      8102|      9.33|     6.92|     75591.66|  56065.84|    19525.82|\n",
      "|  Sub-Saharan Africa|              Rwanda|Office Supplies|      Offline|             L|  2/1/2013|115456712| 2/6/2013|      5062|    651.21|   524.96|   3296425.02|2657347.52|    639077.5|\n",
      "|Australia and Oce...|     Solomon Islands|      Baby Food|       Online|             C|  2/4/2015|547995746|2/21/2015|      2974|    255.28|   159.42|    759202.72| 474115.08|   285087.64|\n",
      "|  Sub-Saharan Africa|              Angola|      Household|      Offline|             M| 4/23/2011|135425221|4/27/2011|      4187|    668.27|   502.54|   2798046.49|2104134.98|   693911.51|\n",
      "|  Sub-Saharan Africa|        Burkina Faso|     Vegetables|       Online|             H| 7/17/2012|871543967|7/27/2012|      8082|    154.06|    90.93|   1245112.92| 734896.26|   510216.66|\n",
      "|  Sub-Saharan Africa|Republic of the C...|  Personal Care|      Offline|             M| 7/14/2015|770463311|8/25/2015|      6070|     81.73|    56.67|     496101.1|  343986.9|    152114.2|\n",
      "|  Sub-Saharan Africa|             Senegal|         Cereal|       Online|             H| 4/18/2014|616607081|5/30/2014|      6593|     205.7|   117.11|    1356180.1| 772106.23|   584073.87|\n",
      "+--------------------+--------------------+---------------+-------------+--------------+----------+---------+---------+----------+----------+---------+-------------+----------+------------+\n",
      "only showing top 10 rows\n",
      "root\n",
      " |-- Region: string (nullable = true)\n",
      " |-- Country: string (nullable = true)\n",
      " |-- Item Type: string (nullable = true)\n",
      " |-- Sales Channel: string (nullable = true)\n",
      " |-- Order Priority: string (nullable = true)\n",
      " |-- Order Date: string (nullable = true)\n",
      " |-- Order ID: integer (nullable = true)\n",
      " |-- Ship Date: string (nullable = true)\n",
      " |-- Units Sold: integer (nullable = true)\n",
      " |-- Unit Price: double (nullable = true)\n",
      " |-- Unit Cost: double (nullable = true)\n",
      " |-- Total Revenue: double (nullable = true)\n",
      " |-- Total Cost: double (nullable = true)\n",
      " |-- Total Profit: double (nullable = true)\n",
      "\n"
     ]
    }
   ],
   "source": [
    "df.show(10)\n",
    "df.printSchema()"
   ]
  },
  {
   "cell_type": "code",
   "execution_count": 53,
   "id": "ea18bd16",
   "metadata": {},
   "outputs": [
    {
     "name": "stdout",
     "output_type": "stream",
     "text": [
      "['Region', 'Country', 'ItemType', 'SalesChannel', 'OrderPriority', 'OrderDate', 'OrderID', 'ShipDate', 'UnitsSold', 'UnitPrice', 'UnitCost', 'TotalRevenue', 'TotalCost', 'TotalProfit']\n"
     ]
    }
   ],
   "source": [
    "# Remove spaces and trim column names\n",
    "df = df.toDF(*[col_name.replace(\" \", \"\").strip() for col_name in df.columns])\n",
    "\n",
    "print(df.columns)"
   ]
  },
  {
   "cell_type": "code",
   "execution_count": 54,
   "id": "286cfbfd",
   "metadata": {},
   "outputs": [
    {
     "name": "stdout",
     "output_type": "stream",
     "text": [
      "+--------------------+--------------------+---------------+------------+-------------+----------+---------+----------+---------+---------+--------+------------+----------+-----------+\n",
      "|              Region|             Country|       ItemType|SalesChannel|OrderPriority| OrderDate|  OrderID|  ShipDate|UnitsSold|UnitPrice|UnitCost|TotalRevenue| TotalCost|TotalProfit|\n",
      "+--------------------+--------------------+---------------+------------+-------------+----------+---------+----------+---------+---------+--------+------------+----------+-----------+\n",
      "|Australia and Oce...|              Tuvalu|      Baby Food|     Offline|            H|2010-05-28|669165933|2010-06-27|     9925|   255.28|  159.42|   2533654.0| 1582243.5|   951410.5|\n",
      "|Central America a...|             Grenada|         Cereal|      Online|            C|2012-08-22|963881480|2012-09-15|     2804|    205.7|  117.11|    576782.8| 328376.44|  248406.36|\n",
      "|              Europe|              Russia|Office Supplies|     Offline|            L|2014-05-02|341417157|2014-05-08|     1779|   651.21|  524.96|  1158502.59| 933903.84|  224598.75|\n",
      "|  Sub-Saharan Africa|Sao Tome and Prin...|         Fruits|      Online|            C|2014-06-20|514321792|2014-07-05|     8102|     9.33|    6.92|    75591.66|  56065.84|   19525.82|\n",
      "|  Sub-Saharan Africa|              Rwanda|Office Supplies|     Offline|            L|2013-02-01|115456712|2013-02-06|     5062|   651.21|  524.96|  3296425.02|2657347.52|   639077.5|\n",
      "+--------------------+--------------------+---------------+------------+-------------+----------+---------+----------+---------+---------+--------+------------+----------+-----------+\n",
      "only showing top 5 rows\n",
      "root\n",
      " |-- Region: string (nullable = true)\n",
      " |-- Country: string (nullable = true)\n",
      " |-- ItemType: string (nullable = true)\n",
      " |-- SalesChannel: string (nullable = true)\n",
      " |-- OrderPriority: string (nullable = true)\n",
      " |-- OrderDate: date (nullable = true)\n",
      " |-- OrderID: integer (nullable = true)\n",
      " |-- ShipDate: date (nullable = true)\n",
      " |-- UnitsSold: integer (nullable = true)\n",
      " |-- UnitPrice: double (nullable = true)\n",
      " |-- UnitCost: double (nullable = true)\n",
      " |-- TotalRevenue: double (nullable = true)\n",
      " |-- TotalCost: double (nullable = true)\n",
      " |-- TotalProfit: double (nullable = true)\n",
      "\n"
     ]
    }
   ],
   "source": [
    "from pyspark.sql.functions import to_date, col, coalesce, when\n",
    "\n",
    "df = df.withColumn(\n",
    "    \"OrderDate\",\n",
    "    when(col(\"OrderDate\").rlike(r\"^\\d{1}/\\d{1,2}/\\d{4}$\"), to_date(col(\"OrderDate\"), \"M/d/yyyy\"))\n",
    "    .when(col(\"OrderDate\").rlike(r\"^\\d{2}/\\d{1,2}/\\d{4}$\"), to_date(col(\"OrderDate\"), \"MM/d/yyyy\"))\n",
    "    .otherwise(None)\n",
    ").withColumn(\n",
    "    \"ShipDate\",\n",
    "    when(col(\"ShipDate\").rlike(r\"^\\d{1}/\\d{1,2}/\\d{4}$\"), to_date(col(\"ShipDate\"), \"M/d/yyyy\"))\n",
    "    .when(col(\"ShipDate\").rlike(r\"^\\d{2}/\\d{1,2}/\\d{4}$\"), to_date(col(\"ShipDate\"), \"MM/d/yyyy\"))\n",
    "    .otherwise(None)\n",
    ")\n",
    "df.show(5)\n",
    "df.printSchema()"
   ]
  },
  {
   "cell_type": "markdown",
   "id": "d89768a9",
   "metadata": {},
   "source": [
    "---"
   ]
  },
  {
   "cell_type": "markdown",
   "id": "9434c19d",
   "metadata": {},
   "source": [
    "Which region has the highest profit, and which country within that region has the highest profit?"
   ]
  },
  {
   "cell_type": "code",
   "execution_count": 59,
   "id": "80417aa6",
   "metadata": {},
   "outputs": [
    {
     "name": "stdout",
     "output_type": "stream",
     "text": [
      "+------------------+-------------+\n",
      "|Region            |total_profit |\n",
      "+------------------+-------------+\n",
      "|Sub-Saharan Africa|12,183,211.40|\n",
      "+------------------+-------------+\n",
      "only showing top 1 row\n"
     ]
    }
   ],
   "source": [
    "from pyspark.sql.functions import format_number, col, sum\n",
    "\n",
    "# Group by region and sum profits\n",
    "region_profit = df.groupBy(\"Region\") \\\n",
    "                    .agg(sum(\"TotalProfit\").alias(\"total_profit\")) \\\n",
    "                    .orderBy(col(\"total_profit\").desc())\n",
    "\n",
    "# Show top region with formatted number\n",
    "region_profit.withColumn(\"total_profit\", format_number(col(\"total_profit\"), 2)) \\\n",
    "                .show(1, truncate=False)"
   ]
  },
  {
   "cell_type": "code",
   "execution_count": 61,
   "id": "cb4d255c",
   "metadata": {},
   "outputs": [
    {
     "name": "stdout",
     "output_type": "stream",
     "text": [
      "+--------+------------+\n",
      "|Country |total_profit|\n",
      "+--------+------------+\n",
      "|Djibouti|2,425,317.87|\n",
      "+--------+------------+\n",
      "only showing top 1 row\n"
     ]
    }
   ],
   "source": [
    "# Get the top region name\n",
    "top_region = region_profit.first()[\"Region\"]\n",
    "\n",
    "# Find the top country within that region\n",
    "df.filter(col(\"Region\") == top_region) \\\n",
    "    .groupBy(\"Country\") \\\n",
    "    .agg(sum(\"TotalProfit\").alias(\"total_profit\")) \\\n",
    "    .orderBy(col(\"total_profit\").desc()) \\\n",
    "    .withColumn(\"total_profit\", format_number(col(\"total_profit\"), 2)) \\\n",
    "    .show(1, truncate=False)"
   ]
  },
  {
   "cell_type": "code",
   "execution_count": 58,
   "id": "0a1bf3f4",
   "metadata": {},
   "outputs": [
    {
     "name": "stdout",
     "output_type": "stream",
     "text": [
      "Sub-Saharan Africa Region has the highest profit with a total profit of 12183211.400000004\n",
      "Djibouti country, under region Sub-Saharan Africa has the highest profit with a total profit of 2425317.87\n"
     ]
    }
   ],
   "source": [
    "from pyspark.sql.functions import col, sum\n",
    "\n",
    "# Group the data by region and calculate the total profit for each region\n",
    "region_and_country_with_profit = df.groupBy(col('Region')).sum('TotalProfit')\n",
    "\n",
    "# Order the regions by total profit in descending order and get the region with the highest profit\n",
    "region_with_highest_profit = region_and_country_with_profit.orderBy(\"sum(TotalProfit)\", ascending=False).first()\n",
    "\n",
    "# Print the region with the highest profit and its total profit\n",
    "print(f\"{region_with_highest_profit['Region']} Region has the highest profit with a total profit of {region_with_highest_profit['sum(TotalProfit)']}\")\n",
    "\n",
    "# Filter the data to include only the rows from the region with the highest profit\n",
    "# Group the data by country within that region and calculate the total profit for each country\n",
    "# Order the countries by total profit in descending order and get the country with the highest profit\n",
    "country_with_highest_profit = df.where(col('Region') == region_with_highest_profit['Region']) \\\n",
    "                                .groupBy(col('Country')).sum('TotalProfit') \\\n",
    "                                .orderBy(\"sum(TotalProfit)\", ascending=False).first()\n",
    "\n",
    "# Print the country with the highest profit within the region with the highest profit and its total profit\n",
    "print(f\"{country_with_highest_profit['Country']} country, under region {region_with_highest_profit['Region']} has the highest profit with a total profit of {country_with_highest_profit['sum(TotalProfit)']}\")\n",
    "\n",
    "#Output : 12183211.400000004, 2425317.87"
   ]
  },
  {
   "cell_type": "markdown",
   "id": "c02f4d10",
   "metadata": {},
   "source": [
    "---"
   ]
  },
  {
   "cell_type": "markdown",
   "id": "f507b343",
   "metadata": {},
   "source": [
    "What is the highest number of orders placed within a 72-hour period?"
   ]
  },
  {
   "cell_type": "code",
   "execution_count": 62,
   "id": "f09000d2",
   "metadata": {},
   "outputs": [
    {
     "name": "stdout",
     "output_type": "stream",
     "text": [
      "root\n",
      " |-- Region: string (nullable = true)\n",
      " |-- Country: string (nullable = true)\n",
      " |-- ItemType: string (nullable = true)\n",
      " |-- SalesChannel: string (nullable = true)\n",
      " |-- OrderPriority: string (nullable = true)\n",
      " |-- OrderDate: date (nullable = true)\n",
      " |-- OrderID: integer (nullable = true)\n",
      " |-- ShipDate: date (nullable = true)\n",
      " |-- UnitsSold: integer (nullable = true)\n",
      " |-- UnitPrice: double (nullable = true)\n",
      " |-- UnitCost: double (nullable = true)\n",
      " |-- TotalRevenue: double (nullable = true)\n",
      " |-- TotalCost: double (nullable = true)\n",
      " |-- TotalProfit: double (nullable = true)\n",
      "\n"
     ]
    }
   ],
   "source": [
    "df.printSchema()"
   ]
  },
  {
   "cell_type": "code",
   "execution_count": 63,
   "id": "3eca88d0",
   "metadata": {},
   "outputs": [
    {
     "name": "stdout",
     "output_type": "stream",
     "text": [
      "Highest number of orders ordered under a 72 hr period is 2\n"
     ]
    }
   ],
   "source": [
    "from pyspark.sql.functions import window, count, col\n",
    "\n",
    "order = df.groupBy(window(col(\"OrderDate\"), '72 hours')) \\\n",
    "            .agg(count(\"OrderID\").alias(\"count_order_id\")) \\\n",
    "            .orderBy('count_order_id', ascending = False)\n",
    "            \n",
    "# Print the highest number of orders placed within any 72-hour period\n",
    "print(f\"Highest number of orders ordered under a 72 hr period is {order.first()[1]}\")"
   ]
  },
  {
   "cell_type": "markdown",
   "id": "488bc14c",
   "metadata": {},
   "source": [
    "---\n"
   ]
  },
  {
   "cell_type": "markdown",
   "id": "525e367a",
   "metadata": {},
   "source": [
    "Which month has the highest average number of units sold?"
   ]
  },
  {
   "cell_type": "code",
   "execution_count": 65,
   "id": "6379846b",
   "metadata": {},
   "outputs": [
    {
     "name": "stdout",
     "output_type": "stream",
     "text": [
      "root\n",
      " |-- Region: string (nullable = true)\n",
      " |-- Country: string (nullable = true)\n",
      " |-- ItemType: string (nullable = true)\n",
      " |-- SalesChannel: string (nullable = true)\n",
      " |-- OrderPriority: string (nullable = true)\n",
      " |-- OrderDate: date (nullable = true)\n",
      " |-- OrderID: integer (nullable = true)\n",
      " |-- ShipDate: date (nullable = true)\n",
      " |-- UnitsSold: integer (nullable = true)\n",
      " |-- UnitPrice: double (nullable = true)\n",
      " |-- UnitCost: double (nullable = true)\n",
      " |-- TotalRevenue: double (nullable = true)\n",
      " |-- TotalCost: double (nullable = true)\n",
      " |-- TotalProfit: double (nullable = true)\n",
      "\n",
      "+--------------------+--------------------+---------------+------------+-------------+----------+---------+----------+---------+---------+--------+------------+----------+-----------+\n",
      "|              Region|             Country|       ItemType|SalesChannel|OrderPriority| OrderDate|  OrderID|  ShipDate|UnitsSold|UnitPrice|UnitCost|TotalRevenue| TotalCost|TotalProfit|\n",
      "+--------------------+--------------------+---------------+------------+-------------+----------+---------+----------+---------+---------+--------+------------+----------+-----------+\n",
      "|Australia and Oce...|              Tuvalu|      Baby Food|     Offline|            H|2010-05-28|669165933|2010-06-27|     9925|   255.28|  159.42|   2533654.0| 1582243.5|   951410.5|\n",
      "|Central America a...|             Grenada|         Cereal|      Online|            C|2012-08-22|963881480|2012-09-15|     2804|    205.7|  117.11|    576782.8| 328376.44|  248406.36|\n",
      "|              Europe|              Russia|Office Supplies|     Offline|            L|2014-05-02|341417157|2014-05-08|     1779|   651.21|  524.96|  1158502.59| 933903.84|  224598.75|\n",
      "|  Sub-Saharan Africa|Sao Tome and Prin...|         Fruits|      Online|            C|2014-06-20|514321792|2014-07-05|     8102|     9.33|    6.92|    75591.66|  56065.84|   19525.82|\n",
      "|  Sub-Saharan Africa|              Rwanda|Office Supplies|     Offline|            L|2013-02-01|115456712|2013-02-06|     5062|   651.21|  524.96|  3296425.02|2657347.52|   639077.5|\n",
      "+--------------------+--------------------+---------------+------------+-------------+----------+---------+----------+---------+---------+--------+------------+----------+-----------+\n",
      "only showing top 5 rows\n"
     ]
    }
   ],
   "source": [
    "df.printSchema()\n",
    "df.show(5)"
   ]
  },
  {
   "cell_type": "code",
   "execution_count": null,
   "id": "55c6d80b",
   "metadata": {},
   "outputs": [
    {
     "name": "stdout",
     "output_type": "stream",
     "text": [
      "The month with the highest average of units sold is July\n"
     ]
    }
   ],
   "source": [
    "from pyspark.sql.functions import date_format, avg, col\n",
    "\n",
    "month_order = df.groupBy(date_format(col(\"OrderDate\"), \"MMMM\").alias(\"month_name\")) \\\n",
    "                .agg(avg(col('UnitsSold')).alias('avg_units_sold')) \\\n",
    "                .orderBy('avg_units_sold', ascending=False) \\\n",
    "                .first()\n",
    "\n",
    "# Print the month with the highest average number of units sold\n",
    "print(f\"The month with the highest average number of units sold is {month_order['month_name']}\")"
   ]
  },
  {
   "cell_type": "markdown",
   "id": "ae937aaa",
   "metadata": {},
   "source": [
    "---"
   ]
  },
  {
   "cell_type": "markdown",
   "id": "c3ae85f0",
   "metadata": {},
   "source": [
    "On analyzing the financial performance of placed orders. Identify the lowest and highest margin percentages from this analysis?"
   ]
  },
  {
   "cell_type": "code",
   "execution_count": 70,
   "id": "da4b2b6f",
   "metadata": {},
   "outputs": [
    {
     "name": "stdout",
     "output_type": "stream",
     "text": [
      "+--------------------+--------------------+---------------+------------+-------------+----------+---------+----------+---------+---------+--------+------------+----------+-----------+\n",
      "|              Region|             Country|       ItemType|SalesChannel|OrderPriority| OrderDate|  OrderID|  ShipDate|UnitsSold|UnitPrice|UnitCost|TotalRevenue| TotalCost|TotalProfit|\n",
      "+--------------------+--------------------+---------------+------------+-------------+----------+---------+----------+---------+---------+--------+------------+----------+-----------+\n",
      "|Australia and Oce...|              Tuvalu|      Baby Food|     Offline|            H|2010-05-28|669165933|2010-06-27|     9925|   255.28|  159.42|   2533654.0| 1582243.5|   951410.5|\n",
      "|Central America a...|             Grenada|         Cereal|      Online|            C|2012-08-22|963881480|2012-09-15|     2804|    205.7|  117.11|    576782.8| 328376.44|  248406.36|\n",
      "|              Europe|              Russia|Office Supplies|     Offline|            L|2014-05-02|341417157|2014-05-08|     1779|   651.21|  524.96|  1158502.59| 933903.84|  224598.75|\n",
      "|  Sub-Saharan Africa|Sao Tome and Prin...|         Fruits|      Online|            C|2014-06-20|514321792|2014-07-05|     8102|     9.33|    6.92|    75591.66|  56065.84|   19525.82|\n",
      "|  Sub-Saharan Africa|              Rwanda|Office Supplies|     Offline|            L|2013-02-01|115456712|2013-02-06|     5062|   651.21|  524.96|  3296425.02|2657347.52|   639077.5|\n",
      "+--------------------+--------------------+---------------+------------+-------------+----------+---------+----------+---------+---------+--------+------------+----------+-----------+\n",
      "only showing top 5 rows\n",
      "root\n",
      " |-- Region: string (nullable = true)\n",
      " |-- Country: string (nullable = true)\n",
      " |-- ItemType: string (nullable = true)\n",
      " |-- SalesChannel: string (nullable = true)\n",
      " |-- OrderPriority: string (nullable = true)\n",
      " |-- OrderDate: date (nullable = true)\n",
      " |-- OrderID: integer (nullable = true)\n",
      " |-- ShipDate: date (nullable = true)\n",
      " |-- UnitsSold: integer (nullable = true)\n",
      " |-- UnitPrice: double (nullable = true)\n",
      " |-- UnitCost: double (nullable = true)\n",
      " |-- TotalRevenue: double (nullable = true)\n",
      " |-- TotalCost: double (nullable = true)\n",
      " |-- TotalProfit: double (nullable = true)\n",
      "\n"
     ]
    }
   ],
   "source": [
    "df.show(5)\n",
    "df.printSchema()"
   ]
  },
  {
   "cell_type": "code",
   "execution_count": 73,
   "id": "84db25eb",
   "metadata": {},
   "outputs": [
    {
     "name": "stdout",
     "output_type": "stream",
     "text": [
      "Order Item with the lowest margin percentage is: 14%\n",
      "Order Item with the highest margin percentage is: 67%\n"
     ]
    }
   ],
   "source": [
    "from pyspark.sql.functions import col, round\n",
    "\n",
    "# Rename the columns 'Unit Price' to 'SP' (Selling Price) and 'Unit Cost' to 'CP' (Cost Price)\n",
    "margin = df.withColumnsRenamed({'UnitPrice':'SP','UnitCost':'CP'}) \\\n",
    "            .select('OrderID', 'SP', 'CP')\n",
    "\n",
    "# Calculate the margin percentage for each order item and round it to the nearest integer\n",
    "margin_percentage = margin.withColumn(\"Percentage\", round(((col('SP') - col('CP')) / col('SP')) * 100))\n",
    "\n",
    "# Find the order item with the lowest margin percentage\n",
    "lowest_margin_percentage = margin_percentage.orderBy('Percentage', ascending=True).first()[3]\n",
    "\n",
    "# Find the order item with the highest margin percentage\n",
    "highest_margin_percentage = margin_percentage.orderBy('Percentage', ascending=False).first()[3]\n",
    "\n",
    "# Print the lowest and highest margin percentages\n",
    "print(f\"Order Item with the lowest margin percentage is: {int(lowest_margin_percentage)}%\")\n",
    "print(f\"Order Item with the highest margin percentage is: {int(highest_margin_percentage)}%\")\n"
   ]
  },
  {
   "cell_type": "markdown",
   "id": "2e0387ba",
   "metadata": {},
   "source": [
    "---"
   ]
  },
  {
   "cell_type": "markdown",
   "id": "b77d63ce",
   "metadata": {},
   "source": [
    "On identifying key sales trends determine the top 3 highest-value orders for a specific item type from the dataset?"
   ]
  },
  {
   "cell_type": "code",
   "execution_count": 78,
   "id": "a22c538c",
   "metadata": {},
   "outputs": [
    {
     "name": "stdout",
     "output_type": "stream",
     "text": [
      "+---------------------------------+------------------------------+---------------+------------+-------------+----------+---------+----------+---------+---------+--------+------------+----------+-----------+\n",
      "|Region                           |Country                       |ItemType       |SalesChannel|OrderPriority|OrderDate |OrderID  |ShipDate  |UnitsSold|UnitPrice|UnitCost|TotalRevenue|TotalCost |TotalProfit|\n",
      "+---------------------------------+------------------------------+---------------+------------+-------------+----------+---------+----------+---------+---------+--------+------------+----------+-----------+\n",
      "|Australia and Oceania            |Tuvalu                        |Baby Food      |Offline     |H            |2010-05-28|669165933|2010-06-27|9925     |255.28   |159.42  |2533654.0   |1582243.5 |951410.5   |\n",
      "|Europe                           |Monaco                        |Baby Food      |Offline     |H            |2012-05-29|688288152|2012-06-02|8614     |255.28   |159.42  |2198981.92  |1373243.88|825738.04  |\n",
      "|Europe                           |Norway                        |Baby Food      |Online      |L            |2014-05-14|819028031|2014-06-28|7450     |255.28   |159.42  |1901836.0   |1187679.0 |714157.0   |\n",
      "|Australia and Oceania            |Australia                     |Beverages      |Offline     |H            |2014-07-07|240470397|2014-07-11|9389     |47.45    |31.79   |445508.05   |298476.31 |147031.74  |\n",
      "|Australia and Oceania            |Federated States of Micronesia|Beverages      |Online      |C            |2014-10-28|217221009|2014-11-15|9379     |47.45    |31.79   |445033.55   |298158.41 |146875.14  |\n",
      "|Sub-Saharan Africa               |Sao Tome and Principe         |Beverages      |Offline     |C            |2011-01-16|180283772|2011-01-21|8829     |47.45    |31.79   |418936.05   |280673.91 |138262.14  |\n",
      "|Sub-Saharan Africa               |Djibouti                      |Cereal         |Online      |H            |2017-05-20|555990016|2017-06-17|8656     |205.7    |117.11  |1780539.2   |1013704.16|766835.04  |\n",
      "|Sub-Saharan Africa               |Senegal                       |Cereal         |Online      |H            |2014-04-18|616607081|2014-05-30|6593     |205.7    |117.11  |1356180.1   |772106.23 |584073.87  |\n",
      "|Middle East and North Africa     |Saudi Arabia                  |Cereal         |Online      |M            |2013-03-25|844530045|2013-03-28|4063     |205.7    |117.11  |835759.1    |475817.93 |359941.17  |\n",
      "|Australia and Oceania            |Fiji                          |Clothes        |Offline     |C            |2010-06-30|647876489|2010-08-01|9905     |109.28   |35.84   |1082418.4   |354995.2  |727423.2   |\n",
      "|Asia                             |Bangladesh                    |Clothes        |Online      |L            |2017-01-13|187310731|2017-03-01|8263     |109.28   |35.84   |902980.64   |296145.92 |606834.72  |\n",
      "|Middle East and North Africa     |Lebanon                       |Clothes        |Online      |L            |2012-09-18|663110148|2012-10-08|7884     |109.28   |35.84   |861563.52   |282562.56 |579000.96  |\n",
      "|Middle East and North Africa     |Pakistan                      |Cosmetics      |Offline     |L            |2013-07-05|231145322|2013-08-16|9892     |437.2    |263.33  |4324782.4   |2604860.36|1719922.04 |\n",
      "|Australia and Oceania            |Samoa                         |Cosmetics      |Online      |H            |2013-07-20|670854651|2013-08-07|9654     |437.2    |263.33  |4220728.8   |2542187.82|1678540.98 |\n",
      "|Europe                           |Iceland                       |Cosmetics      |Online      |C            |2016-12-31|331438481|2016-12-31|8867     |437.2    |263.33  |3876652.4   |2334947.11|1541705.29 |\n",
      "|Sub-Saharan Africa               |Lesotho                       |Fruits         |Online      |L            |2013-08-18|918419539|2013-09-18|9606     |9.33     |6.92    |89623.98    |66473.52  |23150.46   |\n",
      "|Sub-Saharan Africa               |Sao Tome and Principe         |Fruits         |Online      |C            |2014-06-20|514321792|2014-07-05|8102     |9.33     |6.92    |75591.66    |56065.84  |19525.82   |\n",
      "|Sub-Saharan Africa               |Sao Tome and Principe         |Fruits         |Offline     |H            |2013-09-17|508980977|2013-10-24|7637     |9.33     |6.92    |71253.21    |52848.04  |18405.17   |\n",
      "|Central America and the Caribbean|Honduras                      |Household      |Offline     |H            |2017-02-08|522840487|2017-02-13|8974     |668.27   |502.54  |5997054.98  |4509793.96|1487261.02 |\n",
      "|Asia                             |Myanmar                       |Household      |Offline     |H            |2015-01-16|177713572|2015-03-01|8250     |668.27   |502.54  |5513227.5   |4145955.0 |1367272.5  |\n",
      "|North America                    |Mexico                        |Household      |Offline     |C            |2014-11-06|986435210|2014-12-12|6954     |668.27   |502.54  |4647149.58  |3494663.16|1152486.42 |\n",
      "|Australia and Oceania            |East Timor                    |Meat           |Online      |L            |2012-07-31|322067916|2012-09-11|5908     |421.89   |364.69  |2492526.12  |2154588.52|337937.6   |\n",
      "|Sub-Saharan Africa               |The Gambia                    |Meat           |Online      |M            |2017-01-14|825304400|2017-01-23|4767     |421.89   |364.69  |2011149.63  |1738477.23|272672.4   |\n",
      "|Europe                           |Lithuania                     |Office Supplies|Offline     |H            |2010-10-24|166460740|2010-11-17|8287     |651.21   |524.96  |5396577.27  |4350343.52|1046233.75 |\n",
      "|Asia                             |Brunei                        |Office Supplies|Online      |L            |2012-04-01|320009267|2012-05-08|6708     |651.21   |524.96  |4368316.68  |3521431.68|846885.0   |\n",
      "|Sub-Saharan Africa               |Cameroon                      |Office Supplies|Online      |M            |2011-11-07|177636754|2011-11-15|5518     |651.21   |524.96  |3593376.78  |2896729.28|696647.5   |\n",
      "|Sub-Saharan Africa               |Gabon                         |Personal Care  |Offline     |L            |2012-07-08|228944623|2012-07-09|8656     |81.73    |56.67   |707454.88   |490535.52 |216919.36  |\n",
      "|North America                    |Mexico                        |Personal Care  |Offline     |L            |2012-02-17|430915820|2012-03-20|6422     |81.73    |56.67   |524870.06   |363934.74 |160935.32  |\n",
      "|Central America and the Caribbean|Costa Rica                    |Personal Care  |Offline     |L            |2017-05-08|456767165|2017-05-21|6409     |81.73    |56.67   |523807.57   |363198.03 |160609.54  |\n",
      "|Sub-Saharan Africa               |Djibouti                      |Snacks         |Online      |M            |2017-02-25|756274640|2017-02-25|7327     |152.58   |97.44   |1117953.66  |713942.88 |404010.78  |\n",
      "|Sub-Saharan Africa               |Zambia                        |Snacks         |Online      |L            |2011-01-04|122583663|2011-01-05|4085     |152.58   |97.44   |623289.3    |398042.4  |225246.9   |\n",
      "|Central America and the Caribbean|Honduras                      |Snacks         |Online      |L            |2016-06-30|795490682|2016-07-26|2225     |152.58   |97.44   |339490.5    |216804.0  |122686.5   |\n",
      "|Sub-Saharan Africa               |Burkina Faso                  |Vegetables     |Online      |H            |2012-07-17|871543967|2012-07-27|8082     |154.06   |90.93   |1245112.92  |734896.26 |510216.66  |\n",
      "|Sub-Saharan Africa               |Kenya                         |Vegetables     |Online      |L            |2012-03-18|827844560|2012-04-07|6457     |154.06   |90.93   |994765.42   |587135.01 |407630.41  |\n",
      "|Asia                             |Laos                          |Vegetables     |Offline     |C            |2011-09-15|789176547|2011-10-23|3732     |154.06   |90.93   |574951.92   |339350.76 |235601.16  |\n",
      "+---------------------------------+------------------------------+---------------+------------+-------------+----------+---------+----------+---------+---------+--------+------------+----------+-----------+\n",
      "\n"
     ]
    }
   ],
   "source": [
    "from pyspark.sql.functions import col, row_number\n",
    "from pyspark.sql.window import Window\n",
    "\n",
    "# Create a window specification to partition the data by 'Item Type' and order by 'Total Profit' in descending order\n",
    "window_spec = Window.partitionBy(col('ItemType')).orderBy(col('TotalProfit').desc())\n",
    "\n",
    "# Add a row number column to the DataFrame based on the window specification\n",
    "highest_valuable_orders = df.withColumn(\"row_id\", row_number().over(window_spec)) \\\n",
    "                            .where(col('row_id').isin(1, 2, 3)) \\\n",
    "                            .drop('row_id')\n",
    "\n",
    "# Display the top 3 highest-value orders for each item type\n",
    "highest_valuable_orders.show(highest_valuable_orders.count(), truncate=False)"
   ]
  },
  {
   "cell_type": "markdown",
   "id": "79a5b93d",
   "metadata": {},
   "source": [
    "---"
   ]
  },
  {
   "cell_type": "markdown",
   "id": "0f3ad8be",
   "metadata": {},
   "source": [
    "Which type of item is most frequently sold on weekends in the Sub-Saharan Africa region?"
   ]
  },
  {
   "cell_type": "code",
   "execution_count": 83,
   "id": "68a87043",
   "metadata": {},
   "outputs": [
    {
     "data": {
      "text/plain": [
       "Row(ItemType='Personal Care', Sum of Units Sold=13796)"
      ]
     },
     "execution_count": 83,
     "metadata": {},
     "output_type": "execute_result"
    }
   ],
   "source": [
    "from pyspark.sql.functions import sum, col, dayofweek\n",
    "\n",
    "frequently_sold = df \\\n",
    "    .where((col(\"Region\") == \"Sub-Saharan Africa\") & (dayofweek(col(\"OrderDate\")).isin([7, 1]))) \\\n",
    "    .groupBy(\"ItemType\") \\\n",
    "    .agg(sum(\"UnitsSold\").alias(\"Sum of Units Sold\")) \\\n",
    "    .orderBy(col(\"Sum of Units Sold\").desc())\n",
    "\n",
    "frequently_sold.first()\n"
   ]
  },
  {
   "cell_type": "markdown",
   "id": "a785c34f",
   "metadata": {},
   "source": [
    "---"
   ]
  },
  {
   "cell_type": "markdown",
   "id": "41e614eb",
   "metadata": {},
   "source": [
    "Compute year-over-year growth for total revenue."
   ]
  },
  {
   "cell_type": "code",
   "execution_count": null,
   "id": "77b6c297",
   "metadata": {},
   "outputs": [
    {
     "ename": "PySparkAttributeError",
     "evalue": "[ATTRIBUTE_NOT_SUPPORTED] Attribute `display` is not supported.",
     "output_type": "error",
     "traceback": [
      "\u001b[1;31m---------------------------------------------------------------------------\u001b[0m",
      "\u001b[1;31mPySparkAttributeError\u001b[0m                     Traceback (most recent call last)",
      "Cell \u001b[1;32mIn[85], line 15\u001b[0m\n\u001b[0;32m      9\u001b[0m windowSpec \u001b[38;5;241m=\u001b[39m Window\u001b[38;5;241m.\u001b[39morderBy(\u001b[38;5;124m\"\u001b[39m\u001b[38;5;124mYear\u001b[39m\u001b[38;5;124m\"\u001b[39m)\n\u001b[0;32m     10\u001b[0m revenue_with_growth \u001b[38;5;241m=\u001b[39m revenue_by_year\u001b[38;5;241m.\u001b[39mwithColumn(\n\u001b[0;32m     11\u001b[0m     \u001b[38;5;124m\"\u001b[39m\u001b[38;5;124mYoY Growth \u001b[39m\u001b[38;5;124m%\u001b[39m\u001b[38;5;124m\"\u001b[39m,\n\u001b[0;32m     12\u001b[0m     concat(\u001b[38;5;28mround\u001b[39m(((col(\u001b[38;5;124m\"\u001b[39m\u001b[38;5;124mYearly Revenue\u001b[39m\u001b[38;5;124m\"\u001b[39m) \u001b[38;5;241m-\u001b[39m lag(\u001b[38;5;124m\"\u001b[39m\u001b[38;5;124mYearly Revenue\u001b[39m\u001b[38;5;124m\"\u001b[39m, \u001b[38;5;241m1\u001b[39m)\u001b[38;5;241m.\u001b[39mover(windowSpec)) \u001b[38;5;241m/\u001b[39m lag(\u001b[38;5;124m\"\u001b[39m\u001b[38;5;124mYearly Revenue\u001b[39m\u001b[38;5;124m\"\u001b[39m, \u001b[38;5;241m1\u001b[39m)\u001b[38;5;241m.\u001b[39mover(windowSpec))\u001b[38;5;241m*\u001b[39m\u001b[38;5;241m100\u001b[39m)\u001b[38;5;241m.\u001b[39mcast(\u001b[38;5;124m\"\u001b[39m\u001b[38;5;124mint\u001b[39m\u001b[38;5;124m\"\u001b[39m)\u001b[38;5;241m.\u001b[39mcast(\u001b[38;5;124m\"\u001b[39m\u001b[38;5;124mstring\u001b[39m\u001b[38;5;124m\"\u001b[39m),lit(\u001b[38;5;124m\"\u001b[39m\u001b[38;5;124m \u001b[39m\u001b[38;5;124m%\u001b[39m\u001b[38;5;124m\"\u001b[39m))\n\u001b[0;32m     13\u001b[0m )\n\u001b[1;32m---> 15\u001b[0m \u001b[43mrevenue_with_growth\u001b[49m\u001b[38;5;241;43m.\u001b[39;49m\u001b[43mdisplay\u001b[49m()\n",
      "File \u001b[1;32mc:\\Users\\arjun\\miniconda3\\envs\\pyspark310\\lib\\site-packages\\pyspark\\sql\\classic\\dataframe.py:971\u001b[0m, in \u001b[0;36mDataFrame.__getattr__\u001b[1;34m(self, name)\u001b[0m\n\u001b[0;32m    969\u001b[0m \u001b[38;5;28;01mdef\u001b[39;00m\u001b[38;5;250m \u001b[39m\u001b[38;5;21m__getattr__\u001b[39m(\u001b[38;5;28mself\u001b[39m, name: \u001b[38;5;28mstr\u001b[39m) \u001b[38;5;241m-\u001b[39m\u001b[38;5;241m>\u001b[39m Column:\n\u001b[0;32m    970\u001b[0m     \u001b[38;5;28;01mif\u001b[39;00m name \u001b[38;5;129;01mnot\u001b[39;00m \u001b[38;5;129;01min\u001b[39;00m \u001b[38;5;28mself\u001b[39m\u001b[38;5;241m.\u001b[39mcolumns:\n\u001b[1;32m--> 971\u001b[0m         \u001b[38;5;28;01mraise\u001b[39;00m PySparkAttributeError(\n\u001b[0;32m    972\u001b[0m             errorClass\u001b[38;5;241m=\u001b[39m\u001b[38;5;124m\"\u001b[39m\u001b[38;5;124mATTRIBUTE_NOT_SUPPORTED\u001b[39m\u001b[38;5;124m\"\u001b[39m, messageParameters\u001b[38;5;241m=\u001b[39m{\u001b[38;5;124m\"\u001b[39m\u001b[38;5;124mattr_name\u001b[39m\u001b[38;5;124m\"\u001b[39m: name}\n\u001b[0;32m    973\u001b[0m         )\n\u001b[0;32m    974\u001b[0m     jc \u001b[38;5;241m=\u001b[39m \u001b[38;5;28mself\u001b[39m\u001b[38;5;241m.\u001b[39m_jdf\u001b[38;5;241m.\u001b[39mapply(name)\n\u001b[0;32m    975\u001b[0m     \u001b[38;5;28;01mreturn\u001b[39;00m Column(jc)\n",
      "\u001b[1;31mPySparkAttributeError\u001b[0m: [ATTRIBUTE_NOT_SUPPORTED] Attribute `display` is not supported."
     ]
    }
   ],
   "source": [
    "from pyspark.sql.functions import year, sum, lag, round, concat, lit\n",
    "from pyspark.sql.window import Window\n",
    "\n",
    "# Aggregate revenue by year\n",
    "revenue_by_year = df.groupBy(year(col(\"OrderDate\")).alias(\"Year\")) \\\n",
    "    .agg(sum(\"TotalRevenue\").alias(\"Yearly Revenue\"))\n",
    "\n",
    "# Calculate year-over-year growth\n",
    "windowSpec = Window.orderBy(\"Year\")\n",
    "revenue_with_growth = revenue_by_year.withColumn(\n",
    "    \"YoY Growth %\",\n",
    "    concat(round(((col(\"Yearly Revenue\") - lag(\"Yearly Revenue\", 1).over(windowSpec)) / lag(\"Yearly Revenue\", 1).over(windowSpec))*100).cast(\"int\").cast(\"string\"),lit(\" %\"))\n",
    ")\n",
    "\n",
    "revenue_with_growth.show()"
   ]
  }
 ],
 "metadata": {
  "kernelspec": {
   "display_name": "pyspark310",
   "language": "python",
   "name": "python3"
  },
  "language_info": {
   "codemirror_mode": {
    "name": "ipython",
    "version": 3
   },
   "file_extension": ".py",
   "mimetype": "text/x-python",
   "name": "python",
   "nbconvert_exporter": "python",
   "pygments_lexer": "ipython3",
   "version": "3.10.18"
  }
 },
 "nbformat": 4,
 "nbformat_minor": 5
}
